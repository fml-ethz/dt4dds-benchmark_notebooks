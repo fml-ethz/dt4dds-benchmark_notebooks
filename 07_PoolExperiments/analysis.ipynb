{
 "cells": [
  {
   "cell_type": "code",
   "execution_count": null,
   "metadata": {},
   "outputs": [],
   "source": [
    "%load_ext autoreload\n",
    "%autoreload 2\n",
    "import dt4dds_benchmark\n",
    "import plotly.express as px\n",
    "import plotly.graph_objects as go\n",
    "import pandas as pd\n",
    "import numpy as np\n",
    "\n",
    "data_sim = dt4dds_benchmark.analysis.Dataset.combine(*[dt4dds_benchmark.pipelines.HDF5Manager(f'./sim_data/{scenario}/{clustering}/{codec}.hdf5').get_data() for codec in (\n",
    "    'aeon_high',\n",
    "    'aeon_max',\n",
    "    'aeon_medium',\n",
    "    'fountain_high',\n",
    "    'fountain_max',\n",
    "    'fountain_medium',\n",
    "    'goldman',\n",
    "    'rs_high',\n",
    "    'rs_max',\n",
    "    'rs_medium',\n",
    "    'hedges',\n",
    "    'yinyang',\n",
    ") for clustering in (\n",
    "    'basic',\n",
    "    'default',\n",
    ") for scenario in (\n",
    "    'bestcase', \n",
    "    'worstcase'\n",
    ")])\n",
    "\n",
    "data_exp = dt4dds_benchmark.analysis.Dataset.combine(*[dt4dds_benchmark.pipelines.HDF5Manager(f'./decoding_data/{scenario}/{codec}.hdf5').get_data() for codec in (\n",
    "    'aeon_high',\n",
    "    'aeon_max',\n",
    "    'aeon_medium',\n",
    "    'fountain_high',\n",
    "    'fountain_max',\n",
    "    'fountain_medium',\n",
    "    'goldman',\n",
    "    'rs_high',\n",
    "    'rs_max',\n",
    "    'rs_medium',\n",
    "    'hedges',\n",
    "    'yinyang',\n",
    ") for scenario in (\n",
    "    'bestcase', \n",
    "    'worstcase'\n",
    ")])"
   ]
  },
  {
   "cell_type": "code",
   "execution_count": null,
   "metadata": {},
   "outputs": [],
   "source": [
    "exp2coderate = {\n",
    "    'DNAAeon_max': \"1.81\", 'DNAAeon_high': \"1.51\", 'DNAAeon_medium': \"1.01\",\n",
    "    'DNAFountain_max': \"1.74\", 'DNAFountain_high': \"1.47\", 'DNAFountain_medium': \"1.00\",\n",
    "    'DNARS_max': \"1.64\", 'DNARS_high': \"1.50\", 'DNARS_medium': \"1.00\",\n",
    "    'Goldman_default': \"0.34\", 'HEDGES_pool': \"0.99\", 'YinYang_default-pool': \"1.82\",\n",
    "}"
   ]
  },
  {
   "cell_type": "markdown",
   "metadata": {},
   "source": [
    "### prepare experimental data"
   ]
  },
  {
   "cell_type": "code",
   "execution_count": null,
   "metadata": {},
   "outputs": [],
   "source": [
    "df_exp = data_exp.combined_results.copy()\n",
    "df_exp['cov'] = df_exp['metadata.coverage'].str[3:].astype(float)\n",
    "df_exp['iteration'] = df_exp['metadata.iteration']\n",
    "df_exp['scenario'] = df_exp['metadata.scenario']\n",
    "df_exp = df_exp.groupby(['codec.type', 'codec.name', 'clustering.type', 'clustering.name', 'scenario', 'cov'])['decoding_success'].mean().reset_index()\n",
    "df_exp = df_exp.loc[df_exp.groupby(['codec.type', 'codec.name', 'scenario', 'cov'])['decoding_success'].idxmax()]\n",
    "\n",
    "df_exp"
   ]
  },
  {
   "cell_type": "code",
   "execution_count": null,
   "metadata": {},
   "outputs": [],
   "source": [
    "df_exp.loc[(df_exp['scenario'] == 'worstcase') & (df_exp['codec.type'] == 'DNAAeon')]"
   ]
  },
  {
   "cell_type": "code",
   "execution_count": null,
   "metadata": {},
   "outputs": [],
   "source": [
    "success_df = df_exp.loc[df_exp['decoding_success'] > 0.00, ['codec.type', 'codec.name', 'clustering.type', 'scenario', 'cov', 'decoding_success']]\n",
    "success_df['codec.name'] = success_df['codec.type'] + '_' + success_df['codec.name'].str.replace('_pool', '')\n",
    "success_df['coderate'] = success_df['codec.name'].map(exp2coderate)\n",
    "success_df = success_df.drop(columns=['codec.name'])\n",
    "\n",
    "success_df"
   ]
  },
  {
   "cell_type": "markdown",
   "metadata": {},
   "source": [
    "### check simulation results"
   ]
  },
  {
   "cell_type": "code",
   "execution_count": null,
   "metadata": {},
   "outputs": [],
   "source": [
    "for c in data_sim.separate_by_parameters(['workflow.type', 'codec.type', 'codec.name', 'clustering.type']):\n",
    "    c.fit('workflow.coverage').plot(title_columns=['workflow.type', 'codec.type', 'codec.name', 'clustering.type']).show()"
   ]
  },
  {
   "cell_type": "markdown",
   "metadata": {},
   "source": [
    "### prepare simulated data"
   ]
  },
  {
   "cell_type": "code",
   "execution_count": null,
   "metadata": {},
   "outputs": [],
   "source": [
    "df_sim = data_sim.get_fits_by_group(['workflow.type', 'codec.type', 'codec.name', 'clustering.type'], 'workflow.coverage', additional_agg={'code_rate': 'mean'})\n",
    "\n",
    "prop_df = []\n",
    "for row in df_sim.iterrows():\n",
    "    for cov in [2, 5, 10, 25, 50, 1000]:\n",
    "        if (row[1]['message'] != 'Fit successful.'):\n",
    "            p = 0\n",
    "        else:\n",
    "            p = dt4dds_benchmark.analysis.datafit.sigmoid(np.log10(cov), row[1]['params_k'], row[1]['params_x0'])\n",
    "        d = row[1].copy()\n",
    "        d['cov'] = cov\n",
    "        d['prop'] = p\n",
    "        prop_df.append(d)\n",
    "\n",
    "prop_df = pd.DataFrame(prop_df)\n",
    "prop_df = prop_df.groupby(['workflow.type', 'codec.type', 'codec.name', 'cov'])['prop'].max().reset_index()\n",
    "prop_df['codec.name'] = prop_df['codec.type'] + '_' + prop_df['codec.name'].str.replace('_pool', '')\n",
    "prop_df['coderate'] = prop_df['codec.name'].map(exp2coderate)\n",
    "prop_df = prop_df.drop(columns=['codec.name'])\n",
    "prop_df = prop_df.pivot(index=['workflow.type', 'codec.type', 'coderate'], columns='cov', values='prop').reset_index().sort_values(['workflow.type', 'codec.type', 'coderate'])\n",
    "\n",
    "prop_df"
   ]
  },
  {
   "cell_type": "code",
   "execution_count": null,
   "metadata": {},
   "outputs": [],
   "source": [
    "for workflow, scenario, covs in (('Pool_Bestcase', 'bestcase', (2, 5, 10, 25, 1000)), ('Pool_Worstcase', 'worstcase', (5, 10, 25, 50, 1000))):\n",
    "\n",
    "    iprop_df = prop_df.loc[prop_df['workflow.type'] == workflow].copy()\n",
    "    isuccess_df = success_df.loc[success_df['scenario'] == scenario].copy()\n",
    "\n",
    "    fig = go.Figure(\n",
    "        data=go.Heatmap(\n",
    "            z=np.array([iprop_df[s].values for s in covs]).T,\n",
    "            x=[str(s) for s in covs],\n",
    "            y=[iprop_df['codec.type'].values, iprop_df['coderate'].values],\n",
    "            hoverongaps = False,\n",
    "            colorbar=dict(thickness=10, len=0.5, tickfont=dict(size=28/3, family='Inter'), dtick=0.5, tickformat='.0%'),\n",
    "            colorscale=[[0, '#ffffff'], [1, '#74c476']],\n",
    "        )\n",
    "    )\n",
    "\n",
    "    fig.update_layout(\n",
    "        width=300,\n",
    "        height=250,\n",
    "        margin=dict(l=10, r=0, t=5, b=0),\n",
    "        showlegend=False,\n",
    "    )\n",
    "    fig.update_yaxes(\n",
    "        autorange='reversed',\n",
    "    )\n",
    "    fig = dt4dds_benchmark.analysis.plotting.standardize_plot(fig)\n",
    "\n",
    "    for row in isuccess_df.iterrows():\n",
    "        type2row = {'DNAAeon': 0, 'DNAFountain': 3, 'DNARS': 6, 'Goldman': 9, 'HEDGES': 10, 'YinYang': 11}\n",
    "        rate2row = {'0.34': 0, '0.99': 0, '1.00': 0, '1.01': 0, '1.50': 1, '1.51': 1, '1.47': 1}\n",
    "        cov2col = {cov: i for i, cov in enumerate(covs)}\n",
    "        x = cov2col[row[1]['cov']]\n",
    "        y = type2row[row[1]['codec.type']] + rate2row[row[1]['coderate']]\n",
    "        fig.add_annotation(\n",
    "            text='✓',\n",
    "            x=x,\n",
    "            y=y,\n",
    "            showarrow=False,\n",
    "            font=dict(size=2*28/3, family='Inter', weight='bold', color='black'),\n",
    "            opacity=row[1]['decoding_success'],\n",
    "        )\n",
    "\n",
    "    fig.write_image(f\"./figures/exp_sim_table_{scenario}.svg\")\n",
    "    fig.write_image(f\"./figures/exp_sim_table_{scenario}.png\", scale=2)\n",
    "    fig.show()"
   ]
  }
 ],
 "metadata": {},
 "nbformat": 4,
 "nbformat_minor": 2
}
