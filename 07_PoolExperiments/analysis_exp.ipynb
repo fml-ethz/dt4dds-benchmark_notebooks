{
 "cells": [
  {
   "cell_type": "code",
   "execution_count": null,
   "metadata": {},
   "outputs": [],
   "source": [
    "%load_ext autoreload\n",
    "%autoreload 2\n",
    "import dt4dds_benchmark\n",
    "import dt4dds.analysis.dataaggregation as analysis\n",
    "import scipy.stats\n",
    "import plotly.express as px\n",
    "import plotly.graph_objects as go\n",
    "from plotly.subplots import make_subplots\n",
    "import pandas as pd\n",
    "import numpy as np\n",
    "import collections"
   ]
  },
  {
   "cell_type": "code",
   "execution_count": null,
   "metadata": {},
   "outputs": [],
   "source": [
    "exp2coderate = {\n",
    "    'aeon_max': \"1.81\", 'aeon_high': \"1.51\", 'aeon_medium': \"1.01\",\n",
    "    'fountain_max': \"1.74\", 'fountain_high': \"1.47\", 'fountain_medium': \"1.00\",\n",
    "    'rs_max': \"1.64\", 'rs_high': \"1.50\", 'rs_medium': \"1.00\",\n",
    "    'goldman': \"0.34\", 'hedges': \"0.99\", 'yinyang': \"1.82\",\n",
    "}\n",
    "type2name = {\n",
    "    'aeon': 'DNAAeon', 'fountain': 'DNAFountain', 'rs': 'DNARS', 'goldman': 'GM', 'hedges': 'HG', 'yinyang': 'YY'\n",
    "}"
   ]
  },
  {
   "cell_type": "markdown",
   "metadata": {},
   "source": [
    "### read the error data from Cov1000 analysis"
   ]
  },
  {
   "cell_type": "code",
   "execution_count": null,
   "metadata": {},
   "outputs": [],
   "source": [
    "error_data = [analysis.GroupAnalysis([\n",
    "        (codec, analysis.ErrorAnalysis(f\"./exp_data/{scenario}/Cov1000/full_analysis/{codec}/analysis\")) for codec in [\n",
    "            'aeon_max', 'aeon_high', 'aeon_medium',\n",
    "            'fountain_max', 'fountain_high', 'fountain_medium',\n",
    "            'rs_max', 'rs_high', 'rs_medium',\n",
    "            'goldman', 'hedges', 'yinyang',\n",
    "        ]\n",
    "    ]) for scenario in ('bestcase', 'worstcase')\n",
    "]"
   ]
  },
  {
   "cell_type": "markdown",
   "metadata": {},
   "source": [
    "### retrieve overall error rates"
   ]
  },
  {
   "cell_type": "code",
   "execution_count": null,
   "metadata": {},
   "outputs": [],
   "source": [
    "errordf = []\n",
    "for i, scenario in enumerate(('bestcase', 'worstcase')):\n",
    "    df = error_data[i].data['overall_error_rates'].copy()\n",
    "    df['scenario'] = scenario\n",
    "    errordf.append(df)\n",
    "\n",
    "errordf = pd.concat(errordf, ignore_index=True)\n",
    "errordf[['codec_type', 'codec_name']] = errordf['exp'].str.split('_', expand=True)\n",
    "errordf['codec_name'] = errordf['codec_name'].fillna('default')\n",
    "errordf['coderate'] = errordf['exp'].apply(lambda x: exp2coderate[x])\n",
    "errordf['codec.type'] = errordf['codec_type'].apply(lambda x: type2name[x])\n",
    "errordf = errordf.drop(errordf.loc[errordf['type'].isin(['insevents', 'delevents', 'subevents'])].index)\n",
    "\n",
    "errordf"
   ]
  },
  {
   "cell_type": "markdown",
   "metadata": {},
   "source": [
    "### compare total error rate"
   ]
  },
  {
   "cell_type": "code",
   "execution_count": null,
   "metadata": {},
   "outputs": [],
   "source": [
    "toterrordf = errordf.groupby(['scenario', 'codec_type', 'codec_name']).rate.sum().reset_index()\n",
    "toterrordf"
   ]
  },
  {
   "cell_type": "code",
   "execution_count": null,
   "metadata": {},
   "outputs": [],
   "source": [
    "for scenario, yrange, dtick in (('bestcase', 0.002, 0.001), ('worstcase', 0.02, 0.01)):\n",
    "    fig = dt4dds_benchmark.analysis.plotting.tiered_bar(\n",
    "        errordf.loc[errordf.scenario == scenario].sort_values(['codec.type', 'coderate']),\n",
    "        \"codec.type\",\n",
    "        \"coderate\",\n",
    "        \"rate\",\n",
    "        color_by='type',\n",
    "        color_discrete_map={'substitutions': '#e6550d', 'deletions': '#3182bd', 'insertions': '#2ca25f'},\n",
    "    )\n",
    "    fig.update_layout(\n",
    "        barmode='stack',\n",
    "        width=324,\n",
    "        height=150,\n",
    "        margin=dict(l=50, r=1, t=10, b=30),\n",
    "        showlegend=False,\n",
    "    )\n",
    "    fig.update_yaxes(\n",
    "        title='Error rate per nt',\n",
    "        tickformat=',.1%',\n",
    "        range=[0, yrange],\n",
    "        dtick=dtick,\n",
    "    )\n",
    "    fig.add_hline(\n",
    "        y=toterrordf.loc[toterrordf.scenario == scenario]['rate'].mean(),\n",
    "        line_width=1,\n",
    "        line_color='black',\n",
    "        line_dash='dot',\n",
    "    )\n",
    "    print(toterrordf.loc[toterrordf.scenario == scenario]['rate'].mean())\n",
    "    fig = dt4dds_benchmark.analysis.plotting.standardize_plot(fig)\n",
    "    fig.update_xaxes(\n",
    "        tickfont_size=28/3, \n",
    "        tickangle=0,\n",
    "    )\n",
    "\n",
    "    fig.write_image(f'./figures/error_comparison_{scenario}.svg')\n",
    "    fig.write_image(f'./figures/error_comparison_{scenario}.png', scale=2)\n",
    "    fig.show()"
   ]
  },
  {
   "cell_type": "markdown",
   "metadata": {},
   "source": [
    "### assess coverage homogeneity"
   ]
  },
  {
   "cell_type": "code",
   "execution_count": null,
   "metadata": {},
   "outputs": [],
   "source": [
    "covs_by_scenario = {\n",
    "    'bestcase': [1000, 25, 10, 5, 2],\n",
    "    'worstcase': [1000, 50, 25, 10, 5],\n",
    "}\n",
    "\n",
    "coverage_data = analysis.DistributionAnalysis({\n",
    "    f\"{scenario}_{cov}\": f\"./exp_data/{scenario}/Cov{cov}/scafstats.txt\" \n",
    "    for scenario in ('bestcase', 'worstcase')\n",
    "    for cov in covs_by_scenario[scenario]\n",
    "})"
   ]
  },
  {
   "cell_type": "code",
   "execution_count": null,
   "metadata": {},
   "outputs": [],
   "source": [
    "coveragedf = coverage_data.data.copy().drop(columns=['index'])\n",
    "coveragedf[['scenario', 'coverage']] = coveragedf['exp'].str.split('_', expand=True)\n",
    "coveragedf['codec.type'] = coveragedf['#name'].str.split('_', expand=True)[0]\n",
    "coveragedf['codec.name'] = coveragedf['#name'].str.split('_', expand=True)[1]\n",
    "coveragedf['codec.name'] = coveragedf['codec.name'].apply(lambda x: 'default' if x.isdigit() else x)\n",
    "coveragedf['id_exp_codec'] = coveragedf['codec.type'] + '_' + coveragedf['codec.name'] + '_' + coveragedf['exp'].astype(str)\n",
    "coveragedf['meanReads_by_codec'] = coveragedf['id_exp_codec'].map(coveragedf.groupby('id_exp_codec')['assignedReads'].mean())\n",
    "coveragedf['x_by_codec'] = coveragedf['assignedReads'] / coveragedf['meanReads_by_codec']\n",
    "coveragedf['id_codec'] = coveragedf['codec.type'] + '_' + coveragedf['codec.name']\n",
    "\n",
    "coveragedf"
   ]
  },
  {
   "cell_type": "code",
   "execution_count": null,
   "metadata": {},
   "outputs": [],
   "source": [
    "seqdepthdf = coveragedf.groupby(['scenario', 'codec.type', 'codec.name', 'coverage']).apply(lambda x: x['assignedReads'].sum()/x['#name'].count(), include_groups=False).reset_index()\n",
    "seqdepthdf['codec_type'] = seqdepthdf['codec.type'].apply(lambda x: type2name[x])\n",
    "seqdepthdf['codec_id'] = seqdepthdf['codec.type'] + '_' + seqdepthdf['codec.name']\n",
    "seqdepthdf['codec_id'] = seqdepthdf['codec_id'].str.replace('_default', '')\n",
    "seqdepthdf['code_rate'] = seqdepthdf['codec_id'].map(exp2coderate)\n",
    "seqdepthdf['coverage'] = seqdepthdf['coverage'].astype(int)\n",
    "seqdepthdf = seqdepthdf.sort_values(['codec_type', 'code_rate', 'coverage'])\n",
    "seqdepthdf['coverage'] = seqdepthdf['coverage'].astype(str)\n",
    "\n",
    "seqdepthdf"
   ]
  },
  {
   "cell_type": "code",
   "execution_count": null,
   "metadata": {},
   "outputs": [],
   "source": [
    "colormap = {\n",
    "    'bestcase': {'1000': '#d9d9d9', '25': '#bdbdbd', '10': '#969696', '5': '#636363', '2': '#252525'},\n",
    "    'worstcase': {'1000': '#d9d9d9', '50': '#bdbdbd', '25': '#969696', '10': '#636363', '5': '#252525'},\n",
    "}\n",
    "\n",
    "for scenario, yrange, dtick in (('bestcase', 210, 50), ('worstcase', 210, 50)):\n",
    "    fig = dt4dds_benchmark.analysis.plotting.tiered_bar(\n",
    "        seqdepthdf.loc[seqdepthdf.scenario == scenario].sort_values(['codec_type', 'code_rate']),\n",
    "        \"codec_type\",\n",
    "        \"code_rate\",\n",
    "        0,\n",
    "        color_by='coverage',\n",
    "        color_discrete_map=colormap[scenario],\n",
    "    )\n",
    "    fig.update_layout(\n",
    "        width=324,\n",
    "        height=150,\n",
    "        margin=dict(l=50, r=1, t=10, b=30),\n",
    "        showlegend=False,\n",
    "    )\n",
    "    fig.update_yaxes(\n",
    "        title='Sequencing depth',\n",
    "        range=[0, yrange],\n",
    "        dtick=dtick\n",
    "    )\n",
    "    fig.add_hline(\n",
    "        y=30,\n",
    "        line_width=1,\n",
    "        line_color='red',\n",
    "    )\n",
    "    fig.add_hline(\n",
    "        y=seqdepthdf[0].mean(),\n",
    "        line_width=1,\n",
    "        line_color='black',\n",
    "        line_dash='dot',\n",
    "    )\n",
    "\n",
    "    fig = dt4dds_benchmark.analysis.plotting.standardize_plot(fig)\n",
    "    fig.update_xaxes(\n",
    "        tickfont_size=28/3, \n",
    "        tickangle=0,\n",
    "    )\n",
    "\n",
    "    fig.write_image(f'./figures/seqdepth_comparison_{scenario}.svg')\n",
    "    fig.write_image(f'./figures/seqdepth_comparison_{scenario}.png', scale=2)\n",
    "    fig.show()"
   ]
  },
  {
   "cell_type": "markdown",
   "metadata": {},
   "source": [
    "### assess sequence dropout after downsampling"
   ]
  },
  {
   "cell_type": "code",
   "execution_count": null,
   "metadata": {},
   "outputs": [],
   "source": [
    "downsampleddf = []\n",
    "\n",
    "for id in coveragedf.id_exp_codec.unique():\n",
    "    expdf = coveragedf.loc[coveragedf.id_exp_codec == id].copy().reset_index(drop=True)\n",
    "    seqs = [expdf['#name'][k] for k in range(len(expdf)) for _ in range(int(expdf['assignedReads'].iloc[k]))]\n",
    "    seq_set = set(expdf['#name'].values)\n",
    "    for _ in range(10):\n",
    "        sampled_seqs = collections.Counter(np.random.choice(seqs, size=int(30*len(expdf)), replace=False))\n",
    "        missing_seqs = seq_set - set(sampled_seqs.keys())\n",
    "        downsampleddf.append({\n",
    "            'id_exp_codec': id,\n",
    "            'dropout_n': len(missing_seqs),\n",
    "            'dropout_p': len(missing_seqs)/len(seq_set),\n",
    "        })\n",
    "\n",
    "downsampleddf = pd.DataFrame(downsampleddf)\n",
    "\n",
    "downsampleddf"
   ]
  },
  {
   "cell_type": "code",
   "execution_count": null,
   "metadata": {},
   "outputs": [],
   "source": [
    "dropoutdf = downsampleddf.groupby('id_exp_codec')['dropout_p'].agg(['mean', 'std']).reset_index()\n",
    "dropoutdf[['codec.type', 'codec.name', 'scenario', 'coverage']] = dropoutdf['id_exp_codec'].str.split('_', expand=True)\n",
    "dropoutdf['codec_type'] = dropoutdf['codec.type'].apply(lambda x: type2name[x])\n",
    "dropoutdf['codec_id'] = dropoutdf['codec.type'] + '_' + dropoutdf['codec.name']\n",
    "dropoutdf['codec_id'] = dropoutdf['codec_id'].str.replace('_default', '')\n",
    "dropoutdf['code_rate'] = dropoutdf['codec_id'].map(exp2coderate)\n",
    "dropoutdf['coverage'] = dropoutdf['coverage'].astype(int)\n",
    "dropoutdf = dropoutdf.sort_values(['scenario', 'codec_type', 'code_rate', 'coverage'])\n",
    "dropoutdf['coverage'] = dropoutdf['coverage'].astype(str)\n",
    "\n",
    "dropoutdf.head()"
   ]
  },
  {
   "cell_type": "code",
   "execution_count": null,
   "metadata": {},
   "outputs": [],
   "source": [
    "colormap = {\n",
    "    'bestcase': {'1000': '#d9d9d9', '25': '#bdbdbd', '10': '#969696', '5': '#636363', '2': '#252525'},\n",
    "    'worstcase': {'1000': '#d9d9d9', '50': '#bdbdbd', '25': '#969696', '10': '#636363', '5': '#252525'},\n",
    "}\n",
    "\n",
    "for scenario, yrange, dtick in (('bestcase', 0.3, 0.1), ('worstcase', 0.3, 0.1)):\n",
    "    fig = dt4dds_benchmark.analysis.plotting.tiered_bar(\n",
    "        dropoutdf.loc[dropoutdf.scenario == scenario].sort_values(['codec_type', 'code_rate']),\n",
    "        \"codec_type\",\n",
    "        \"code_rate\",\n",
    "        \"mean\",\n",
    "        color_by='coverage',\n",
    "        color_discrete_map=colormap[scenario],\n",
    "    )\n",
    "    fig.update_layout(\n",
    "        # barmode='stack',\n",
    "        width=324,\n",
    "        height=150,\n",
    "        margin=dict(l=50, r=1, t=10, b=30),\n",
    "        showlegend=False,\n",
    "    )\n",
    "    fig.update_yaxes(\n",
    "        tickformat=',.0%',\n",
    "        title='Sequence dropout',\n",
    "        range=[0, yrange],\n",
    "        dtick=dtick\n",
    "    )\n",
    "    fig = dt4dds_benchmark.analysis.plotting.standardize_plot(fig)\n",
    "    fig.update_xaxes(\n",
    "        tickfont_size=28/3, \n",
    "        tickangle=0,\n",
    "    )\n",
    "\n",
    "    fig.write_image(f'./figures/dropout_comparison_{scenario}.svg')\n",
    "    fig.write_image(f'./figures/dropout_comparison_{scenario}.png', scale=2)\n",
    "    fig.show()"
   ]
  },
  {
   "cell_type": "markdown",
   "metadata": {},
   "source": [
    "### show evolution of coverage bias"
   ]
  },
  {
   "cell_type": "code",
   "execution_count": null,
   "metadata": {},
   "outputs": [],
   "source": [
    "plotdf = coveragedf.copy()\n",
    "plotdf['coverage'] = -plotdf['coverage'].astype(int)\n",
    "plotdf = plotdf.sort_values(['scenario', 'codec.type', 'coverage'])\n",
    "\n",
    "for scenario, yrange, dtick in (('bestcase', 300, 0.1), ('worstcase', 300, 0.1)):\n",
    "    fig = px.histogram(\n",
    "        plotdf.loc[plotdf.scenario == scenario],\n",
    "        x='x_by_codec',\n",
    "        facet_row='id_codec',\n",
    "        facet_col='coverage',\n",
    "        category_orders={\n",
    "            'id_codec': ['aeon_medium', 'aeon_high', 'aeon_max', 'fountain_medium', 'fountain_high', 'fountain_max', 'rs_medium', 'rs_high', 'rs_max', 'goldman_default', 'hedges_default', 'yinyang_default'],\n",
    "        },\n",
    "    )\n",
    "\n",
    "    fig.update_xaxes(range=[0, 3])\n",
    "    fig.update_xaxes(title=\"Normalized coverage\", row=1)\n",
    "\n",
    "    fig.update_yaxes(range=[0, yrange])\n",
    "    fig.update_yaxes(title=\"Count\", col=1)\n",
    "\n",
    "    fig.update_traces(xbins_size=0.1, xbins_start=0, xbins_end=3, marker_line_width=0, marker_line_color='black')\n",
    "\n",
    "    fig.for_each_annotation(lambda a: a.update(text=a.text.split('=')[1]))\n",
    "\n",
    "    fig.update_layout(\n",
    "        width=680,\n",
    "        height=800,\n",
    "        margin=dict(l=0, r=10, t=20, b=0),\n",
    "        showlegend=False,\n",
    "    )\n",
    "    fig = dt4dds_benchmark.analysis.plotting.standardize_plot(fig)\n",
    "\n",
    "    fig.write_image(f'./figures/coverage_evolution_{scenario}.svg')\n",
    "    fig.write_image(f'./figures/coverage_evolution_{scenario}.png', scale=2)\n",
    "    fig.show()"
   ]
  },
  {
   "cell_type": "markdown",
   "metadata": {},
   "source": [
    "### assess standard deviation across 1000x pools"
   ]
  },
  {
   "cell_type": "code",
   "execution_count": null,
   "metadata": {},
   "outputs": [],
   "source": [
    "stddf = coveragedf.loc[coveragedf.coverage == '1000'].groupby(['scenario', 'codec.type', 'codec.name'])['x'].std().reset_index()\n",
    "stddf"
   ]
  }
 ],
 "metadata": {},
 "nbformat": 4,
 "nbformat_minor": 2
}
