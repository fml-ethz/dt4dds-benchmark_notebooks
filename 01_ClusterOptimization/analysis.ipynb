{
 "cells": [
  {
   "cell_type": "code",
   "execution_count": null,
   "metadata": {},
   "outputs": [],
   "source": [
    "%load_ext autoreload\n",
    "%autoreload 2\n",
    "import dt4dds_benchmark\n",
    "import plotly.graph_objects as go\n",
    "import plotly.express as px\n",
    "import pandas as pd\n",
    "\n",
    "data = dt4dds_benchmark.analysis.Dataset.combine(*[dt4dds_benchmark.pipelines.HDF5Manager(f'./data/{s}.hdf5').get_data() for s in (\n",
    "    'basic',\n",
    "    'cdhit',\n",
    "    'clover',\n",
    "    'lsh',\n",
    "    'mmseqs2',\n",
    "    'starcode',\n",
    ")])"
   ]
  },
  {
   "cell_type": "markdown",
   "metadata": {},
   "source": [
    "### get the results, merge with performance data, and normalize to base scenario"
   ]
  },
  {
   "cell_type": "code",
   "execution_count": null,
   "metadata": {},
   "outputs": [],
   "source": [
    "df = data.combined_results\n",
    "df['scenario'] = df.input_file.str.split('/').str[-1].str.replace('.txt', '')\n",
    "\n",
    "df = df.merge(data.performances)\n",
    "\n",
    "basedf = df.loc[df[\"clustering.type\"] == \"BasicSet\"]\n",
    "for val in ('sensitivity', 'total_foundreferences'):\n",
    "    d = {scenario: basedf.loc[basedf.scenario == scenario][val].values[0] for scenario in basedf.scenario}\n",
    "    df[f'base_{val}'] = df.scenario.map(d)\n",
    "    \n",
    "df['rel_sensitivity'] = df.sensitivity / df.base_sensitivity"
   ]
  },
  {
   "cell_type": "markdown",
   "metadata": {},
   "source": [
    "### plot all the metrics"
   ]
  },
  {
   "cell_type": "code",
   "execution_count": null,
   "metadata": {},
   "outputs": [],
   "source": [
    "metrics = [\"rel_sensitivity\", \"max_similarity\", \"mean_similarity\", \"specificity\", \"duration\"]\n",
    "\n",
    "for metric in metrics:\n",
    "    fig = dt4dds_benchmark.analysis.plotting.tiered_bar(\n",
    "        df,\n",
    "        \"clustering.type\",\n",
    "        \"clustering.name\",\n",
    "        metric,\n",
    "        color_by = \"scenario\",\n",
    "    )\n",
    "    fig.update_yaxes(\n",
    "        title_text=metric,\n",
    "        range=[0, 1] if metric != 'duration' else None,\n",
    "    )\n",
    "    fig.update_layout(\n",
    "        width=1050,\n",
    "        height=300,\n",
    "        margin=dict(l=0, r=10, t=10, b=30),\n",
    "        showlegend=False,\n",
    "    )\n",
    "\n",
    "\n",
    "    fig = dt4dds_benchmark.analysis.plotting.standardize_plot(fig)\n",
    "    fig.show()\n",
    "    fig.write_image(f'./figures/{metric}.svg')\n",
    "    fig.write_image(f'./figures/{metric}.png', scale=2)"
   ]
  },
  {
   "cell_type": "markdown",
   "metadata": {},
   "source": [
    "### generate the raw data as table"
   ]
  },
  {
   "cell_type": "code",
   "execution_count": null,
   "metadata": {},
   "outputs": [],
   "source": [
    "datadf = df[[ \"clustering.type\", \"clustering.name\", \"scenario\", \"rel_sensitivity\", \"max_similarity\", \"mean_similarity\", \"specificity\", \"duration\"]]\n",
    "datadf = datadf.sort_values(by=[\"clustering.type\", \"clustering.name\", \"scenario\"])\n",
    "\n",
    "datadf"
   ]
  },
  {
   "cell_type": "markdown",
   "metadata": {},
   "source": [
    "### limit to best performers of each clustering type"
   ]
  },
  {
   "cell_type": "code",
   "execution_count": null,
   "metadata": {},
   "outputs": [],
   "source": [
    "selectdf = datadf.copy()\n",
    "selectdf['id'] = selectdf['clustering.type'] + \"_\" + selectdf['clustering.name']\n",
    "selectdf = selectdf.loc[selectdf['id'].isin(['BasicSet_default', 'CDHit_id85', 'Clover_D15V4', 'LSH_default', 'MMseqs2_covmode1', 'Starcode_sphereD6'])]\n",
    "\n",
    "selectdf"
   ]
  },
  {
   "cell_type": "code",
   "execution_count": null,
   "metadata": {},
   "outputs": [],
   "source": [
    "plotdf = selectdf.copy()\n",
    "plotdf['speed'] = 1 - (plotdf['duration'] / 60)/30\n",
    "plotdf = plotdf.drop(columns=['duration'])\n",
    "plotdf = pd.merge(\n",
    "    plotdf.loc[plotdf.scenario == 'exp_electrochemical_20x'],\n",
    "    plotdf.loc[plotdf.scenario == 'exp_material_20x'],\n",
    "    on=['id', 'clustering.type', 'clustering.name'],\n",
    "    suffixes=('_mat', '_elec')\n",
    ")\n",
    "plotdf.drop(columns=['scenario_mat', 'scenario_elec'], inplace=True)\n",
    "plotdf = plotdf.melt(id_vars=['clustering.type', 'clustering.name', 'id'], value_vars=[\n",
    "    \"rel_sensitivity_mat\", \n",
    "    \"max_similarity_mat\", \n",
    "    \"specificity_mat\", \n",
    "    \"speed_mat\",\n",
    "    \"speed_elec\",\n",
    "    \"specificity_elec\", \n",
    "    \"max_similarity_elec\", \n",
    "    \"rel_sensitivity_elec\", \n",
    "    ], var_name='metric', value_name='value')\n",
    "\n",
    "\n",
    "fig = px.line_polar(\n",
    "    plotdf, \n",
    "    r='value', \n",
    "    theta='metric', \n",
    "    color='clustering.type', \n",
    "    line_close=True,\n",
    "    start_angle=90+360/8/2,\n",
    "    direction='counterclockwise',\n",
    "    category_orders={'clustering.type': ['BasicSet', 'Starcode', 'MMseqs2', 'Clover', 'LSH', 'CDHit']},\n",
    "    color_discrete_map={'BasicSet': '#636363', 'Starcode': '#31a354', 'Clover': '#756bb1', 'LSH': '#3182bd', 'MMseqs2': '#e6550d', 'CDHit': '#de2d26'},\n",
    ")\n",
    "fig.update_polars(\n",
    "    angularaxis_showgrid=True,\n",
    "    angularaxis_gridwidth=2,\n",
    "    angularaxis_tickfont_size=28/3,\n",
    "    radialaxis_showgrid=True,\n",
    "    radialaxis_showline=False,\n",
    "    radialaxis_ticks=\"\",\n",
    "    radialaxis_showticklabels=False,\n",
    "    # gridshape='linear',\n",
    ")\n",
    "for trace in fig.data:\n",
    "    trace.line.width = 2.5\n",
    "fig.update_layout(\n",
    "    width=200,\n",
    "    height=200,\n",
    "    margin=dict(l=20, r=20, t=20, b=20),\n",
    "    showlegend=False,\n",
    ")\n",
    "fig = dt4dds_benchmark.analysis.plotting.standardize_plot(fig)\n",
    "\n",
    "fig.write_image('./figures/combined_polar.svg')\n",
    "fig.write_image('./figures/combined_polar.png', scale=2)\n",
    "fig.show()"
   ]
  }
 ],
 "metadata": {},
 "nbformat": 4,
 "nbformat_minor": 2
}
